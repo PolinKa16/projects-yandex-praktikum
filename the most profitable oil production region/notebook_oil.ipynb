{
 "cells": [
  {
   "cell_type": "markdown",
   "metadata": {},
   "source": [
    "## Загрузка и подготовка данных"
   ]
  },
  {
   "cell_type": "code",
   "execution_count": 12,
   "metadata": {},
   "outputs": [],
   "source": [
    "import pandas as pd\n",
    "from sklearn.linear_model import LinearRegression\n",
    "from sklearn.metrics import mean_squared_error\n",
    "import numpy as np\n",
    "from sklearn.preprocessing import StandardScaler \n",
    "from sklearn.model_selection import train_test_split"
   ]
  },
  {
   "cell_type": "code",
   "execution_count": 2,
   "metadata": {},
   "outputs": [
    {
     "data": {
      "text/html": [
       "<div>\n",
       "<style scoped>\n",
       "    .dataframe tbody tr th:only-of-type {\n",
       "        vertical-align: middle;\n",
       "    }\n",
       "\n",
       "    .dataframe tbody tr th {\n",
       "        vertical-align: top;\n",
       "    }\n",
       "\n",
       "    .dataframe thead th {\n",
       "        text-align: right;\n",
       "    }\n",
       "</style>\n",
       "<table border=\"1\" class=\"dataframe\">\n",
       "  <thead>\n",
       "    <tr style=\"text-align: right;\">\n",
       "      <th></th>\n",
       "      <th>id</th>\n",
       "      <th>f0</th>\n",
       "      <th>f1</th>\n",
       "      <th>f2</th>\n",
       "      <th>product</th>\n",
       "    </tr>\n",
       "  </thead>\n",
       "  <tbody>\n",
       "    <tr>\n",
       "      <th>0</th>\n",
       "      <td>txEyH</td>\n",
       "      <td>0.705745</td>\n",
       "      <td>-0.497823</td>\n",
       "      <td>1.221170</td>\n",
       "      <td>105.280062</td>\n",
       "    </tr>\n",
       "    <tr>\n",
       "      <th>1</th>\n",
       "      <td>2acmU</td>\n",
       "      <td>1.334711</td>\n",
       "      <td>-0.340164</td>\n",
       "      <td>4.365080</td>\n",
       "      <td>73.037750</td>\n",
       "    </tr>\n",
       "    <tr>\n",
       "      <th>2</th>\n",
       "      <td>409Wp</td>\n",
       "      <td>1.022732</td>\n",
       "      <td>0.151990</td>\n",
       "      <td>1.419926</td>\n",
       "      <td>85.265647</td>\n",
       "    </tr>\n",
       "    <tr>\n",
       "      <th>3</th>\n",
       "      <td>iJLyR</td>\n",
       "      <td>-0.032172</td>\n",
       "      <td>0.139033</td>\n",
       "      <td>2.978566</td>\n",
       "      <td>168.620776</td>\n",
       "    </tr>\n",
       "    <tr>\n",
       "      <th>4</th>\n",
       "      <td>Xdl7t</td>\n",
       "      <td>1.988431</td>\n",
       "      <td>0.155413</td>\n",
       "      <td>4.751769</td>\n",
       "      <td>154.036647</td>\n",
       "    </tr>\n",
       "    <tr>\n",
       "      <th>5</th>\n",
       "      <td>wX4Hy</td>\n",
       "      <td>0.969570</td>\n",
       "      <td>0.489775</td>\n",
       "      <td>-0.735383</td>\n",
       "      <td>64.741541</td>\n",
       "    </tr>\n",
       "    <tr>\n",
       "      <th>6</th>\n",
       "      <td>tL6pL</td>\n",
       "      <td>0.645075</td>\n",
       "      <td>0.530656</td>\n",
       "      <td>1.780266</td>\n",
       "      <td>49.055285</td>\n",
       "    </tr>\n",
       "    <tr>\n",
       "      <th>7</th>\n",
       "      <td>BYPU6</td>\n",
       "      <td>-0.400648</td>\n",
       "      <td>0.808337</td>\n",
       "      <td>-5.624670</td>\n",
       "      <td>72.943292</td>\n",
       "    </tr>\n",
       "    <tr>\n",
       "      <th>8</th>\n",
       "      <td>j9Oui</td>\n",
       "      <td>0.643105</td>\n",
       "      <td>-0.551583</td>\n",
       "      <td>2.372141</td>\n",
       "      <td>113.356160</td>\n",
       "    </tr>\n",
       "    <tr>\n",
       "      <th>9</th>\n",
       "      <td>OLuZU</td>\n",
       "      <td>2.173381</td>\n",
       "      <td>0.563698</td>\n",
       "      <td>9.441852</td>\n",
       "      <td>127.910945</td>\n",
       "    </tr>\n",
       "    <tr>\n",
       "      <th>10</th>\n",
       "      <td>b8WQ6</td>\n",
       "      <td>0.371066</td>\n",
       "      <td>-0.036585</td>\n",
       "      <td>0.009208</td>\n",
       "      <td>70.326617</td>\n",
       "    </tr>\n",
       "    <tr>\n",
       "      <th>11</th>\n",
       "      <td>1YYm1</td>\n",
       "      <td>0.015920</td>\n",
       "      <td>1.062729</td>\n",
       "      <td>-0.722248</td>\n",
       "      <td>45.110381</td>\n",
       "    </tr>\n",
       "    <tr>\n",
       "      <th>12</th>\n",
       "      <td>zIYPq</td>\n",
       "      <td>-0.276476</td>\n",
       "      <td>0.924865</td>\n",
       "      <td>0.095584</td>\n",
       "      <td>89.158678</td>\n",
       "    </tr>\n",
       "    <tr>\n",
       "      <th>13</th>\n",
       "      <td>iqTqq</td>\n",
       "      <td>0.212696</td>\n",
       "      <td>-0.111147</td>\n",
       "      <td>5.770095</td>\n",
       "      <td>164.298520</td>\n",
       "    </tr>\n",
       "    <tr>\n",
       "      <th>14</th>\n",
       "      <td>Ct5yY</td>\n",
       "      <td>-0.018578</td>\n",
       "      <td>0.187516</td>\n",
       "      <td>2.944683</td>\n",
       "      <td>158.633720</td>\n",
       "    </tr>\n",
       "    <tr>\n",
       "      <th>15</th>\n",
       "      <td>Q77WQ</td>\n",
       "      <td>1.324566</td>\n",
       "      <td>-0.419149</td>\n",
       "      <td>-4.097429</td>\n",
       "      <td>60.677876</td>\n",
       "    </tr>\n",
       "    <tr>\n",
       "      <th>16</th>\n",
       "      <td>6vJcD</td>\n",
       "      <td>-0.000247</td>\n",
       "      <td>0.360146</td>\n",
       "      <td>0.794115</td>\n",
       "      <td>163.143987</td>\n",
       "    </tr>\n",
       "    <tr>\n",
       "      <th>17</th>\n",
       "      <td>AgRR6</td>\n",
       "      <td>0.380913</td>\n",
       "      <td>1.114558</td>\n",
       "      <td>0.992377</td>\n",
       "      <td>125.942543</td>\n",
       "    </tr>\n",
       "    <tr>\n",
       "      <th>18</th>\n",
       "      <td>tgSSC</td>\n",
       "      <td>0.160021</td>\n",
       "      <td>0.788151</td>\n",
       "      <td>7.629164</td>\n",
       "      <td>113.793566</td>\n",
       "    </tr>\n",
       "    <tr>\n",
       "      <th>19</th>\n",
       "      <td>s2g8E</td>\n",
       "      <td>0.593078</td>\n",
       "      <td>-0.414964</td>\n",
       "      <td>-0.715774</td>\n",
       "      <td>28.207978</td>\n",
       "    </tr>\n",
       "  </tbody>\n",
       "</table>\n",
       "</div>"
      ],
      "text/plain": [
       "       id        f0        f1        f2     product\n",
       "0   txEyH  0.705745 -0.497823  1.221170  105.280062\n",
       "1   2acmU  1.334711 -0.340164  4.365080   73.037750\n",
       "2   409Wp  1.022732  0.151990  1.419926   85.265647\n",
       "3   iJLyR -0.032172  0.139033  2.978566  168.620776\n",
       "4   Xdl7t  1.988431  0.155413  4.751769  154.036647\n",
       "5   wX4Hy  0.969570  0.489775 -0.735383   64.741541\n",
       "6   tL6pL  0.645075  0.530656  1.780266   49.055285\n",
       "7   BYPU6 -0.400648  0.808337 -5.624670   72.943292\n",
       "8   j9Oui  0.643105 -0.551583  2.372141  113.356160\n",
       "9   OLuZU  2.173381  0.563698  9.441852  127.910945\n",
       "10  b8WQ6  0.371066 -0.036585  0.009208   70.326617\n",
       "11  1YYm1  0.015920  1.062729 -0.722248   45.110381\n",
       "12  zIYPq -0.276476  0.924865  0.095584   89.158678\n",
       "13  iqTqq  0.212696 -0.111147  5.770095  164.298520\n",
       "14  Ct5yY -0.018578  0.187516  2.944683  158.633720\n",
       "15  Q77WQ  1.324566 -0.419149 -4.097429   60.677876\n",
       "16  6vJcD -0.000247  0.360146  0.794115  163.143987\n",
       "17  AgRR6  0.380913  1.114558  0.992377  125.942543\n",
       "18  tgSSC  0.160021  0.788151  7.629164  113.793566\n",
       "19  s2g8E  0.593078 -0.414964 -0.715774   28.207978"
      ]
     },
     "execution_count": 2,
     "metadata": {},
     "output_type": "execute_result"
    }
   ],
   "source": [
    "geo_data_0 = pd.read_csv('/datasets/geo_data_0.csv') \n",
    "geo_data_0.head(20)"
   ]
  },
  {
   "cell_type": "code",
   "execution_count": 3,
   "metadata": {},
   "outputs": [
    {
     "data": {
      "text/html": [
       "<div>\n",
       "<style scoped>\n",
       "    .dataframe tbody tr th:only-of-type {\n",
       "        vertical-align: middle;\n",
       "    }\n",
       "\n",
       "    .dataframe tbody tr th {\n",
       "        vertical-align: top;\n",
       "    }\n",
       "\n",
       "    .dataframe thead th {\n",
       "        text-align: right;\n",
       "    }\n",
       "</style>\n",
       "<table border=\"1\" class=\"dataframe\">\n",
       "  <thead>\n",
       "    <tr style=\"text-align: right;\">\n",
       "      <th></th>\n",
       "      <th>id</th>\n",
       "      <th>f0</th>\n",
       "      <th>f1</th>\n",
       "      <th>f2</th>\n",
       "      <th>product</th>\n",
       "    </tr>\n",
       "  </thead>\n",
       "  <tbody>\n",
       "    <tr>\n",
       "      <th>0</th>\n",
       "      <td>kBEdx</td>\n",
       "      <td>-15.001348</td>\n",
       "      <td>-8.276000</td>\n",
       "      <td>-0.005876</td>\n",
       "      <td>3.179103</td>\n",
       "    </tr>\n",
       "    <tr>\n",
       "      <th>1</th>\n",
       "      <td>62mP7</td>\n",
       "      <td>14.272088</td>\n",
       "      <td>-3.475083</td>\n",
       "      <td>0.999183</td>\n",
       "      <td>26.953261</td>\n",
       "    </tr>\n",
       "    <tr>\n",
       "      <th>2</th>\n",
       "      <td>vyE1P</td>\n",
       "      <td>6.263187</td>\n",
       "      <td>-5.948386</td>\n",
       "      <td>5.001160</td>\n",
       "      <td>134.766305</td>\n",
       "    </tr>\n",
       "    <tr>\n",
       "      <th>3</th>\n",
       "      <td>KcrkZ</td>\n",
       "      <td>-13.081196</td>\n",
       "      <td>-11.506057</td>\n",
       "      <td>4.999415</td>\n",
       "      <td>137.945408</td>\n",
       "    </tr>\n",
       "    <tr>\n",
       "      <th>4</th>\n",
       "      <td>AHL4O</td>\n",
       "      <td>12.702195</td>\n",
       "      <td>-8.147433</td>\n",
       "      <td>5.004363</td>\n",
       "      <td>134.766305</td>\n",
       "    </tr>\n",
       "    <tr>\n",
       "      <th>5</th>\n",
       "      <td>HHckp</td>\n",
       "      <td>-3.327590</td>\n",
       "      <td>-2.205276</td>\n",
       "      <td>3.003647</td>\n",
       "      <td>84.038886</td>\n",
       "    </tr>\n",
       "    <tr>\n",
       "      <th>6</th>\n",
       "      <td>h5Ujo</td>\n",
       "      <td>-11.142655</td>\n",
       "      <td>-10.133399</td>\n",
       "      <td>4.002382</td>\n",
       "      <td>110.992147</td>\n",
       "    </tr>\n",
       "    <tr>\n",
       "      <th>7</th>\n",
       "      <td>muH9x</td>\n",
       "      <td>4.234715</td>\n",
       "      <td>-0.001354</td>\n",
       "      <td>2.004588</td>\n",
       "      <td>53.906522</td>\n",
       "    </tr>\n",
       "    <tr>\n",
       "      <th>8</th>\n",
       "      <td>YiRkx</td>\n",
       "      <td>13.355129</td>\n",
       "      <td>-0.332068</td>\n",
       "      <td>4.998647</td>\n",
       "      <td>134.766305</td>\n",
       "    </tr>\n",
       "    <tr>\n",
       "      <th>9</th>\n",
       "      <td>jG6Gi</td>\n",
       "      <td>1.069227</td>\n",
       "      <td>-11.025667</td>\n",
       "      <td>4.997844</td>\n",
       "      <td>137.945408</td>\n",
       "    </tr>\n",
       "    <tr>\n",
       "      <th>10</th>\n",
       "      <td>7uHUe</td>\n",
       "      <td>11.777049</td>\n",
       "      <td>-5.334084</td>\n",
       "      <td>2.003033</td>\n",
       "      <td>53.906522</td>\n",
       "    </tr>\n",
       "    <tr>\n",
       "      <th>11</th>\n",
       "      <td>OXyvW</td>\n",
       "      <td>16.320755</td>\n",
       "      <td>-0.562946</td>\n",
       "      <td>-0.001783</td>\n",
       "      <td>0.000000</td>\n",
       "    </tr>\n",
       "    <tr>\n",
       "      <th>12</th>\n",
       "      <td>cB8re</td>\n",
       "      <td>7.736313</td>\n",
       "      <td>-6.093374</td>\n",
       "      <td>3.982531</td>\n",
       "      <td>107.813044</td>\n",
       "    </tr>\n",
       "    <tr>\n",
       "      <th>13</th>\n",
       "      <td>igmai</td>\n",
       "      <td>6.695604</td>\n",
       "      <td>-0.749449</td>\n",
       "      <td>-0.007630</td>\n",
       "      <td>0.000000</td>\n",
       "    </tr>\n",
       "    <tr>\n",
       "      <th>14</th>\n",
       "      <td>3OdkE</td>\n",
       "      <td>-10.985487</td>\n",
       "      <td>-5.605994</td>\n",
       "      <td>2.991130</td>\n",
       "      <td>84.038886</td>\n",
       "    </tr>\n",
       "    <tr>\n",
       "      <th>15</th>\n",
       "      <td>3tVUO</td>\n",
       "      <td>-0.347599</td>\n",
       "      <td>-6.275884</td>\n",
       "      <td>-0.003448</td>\n",
       "      <td>3.179103</td>\n",
       "    </tr>\n",
       "    <tr>\n",
       "      <th>16</th>\n",
       "      <td>siveY</td>\n",
       "      <td>12.300570</td>\n",
       "      <td>2.944454</td>\n",
       "      <td>2.005541</td>\n",
       "      <td>53.906522</td>\n",
       "    </tr>\n",
       "    <tr>\n",
       "      <th>17</th>\n",
       "      <td>gIqzq</td>\n",
       "      <td>8.900460</td>\n",
       "      <td>-5.632857</td>\n",
       "      <td>4.994324</td>\n",
       "      <td>134.766305</td>\n",
       "    </tr>\n",
       "    <tr>\n",
       "      <th>18</th>\n",
       "      <td>zO5EU</td>\n",
       "      <td>-13.412826</td>\n",
       "      <td>-4.729495</td>\n",
       "      <td>2.998590</td>\n",
       "      <td>84.038886</td>\n",
       "    </tr>\n",
       "    <tr>\n",
       "      <th>19</th>\n",
       "      <td>dkcEb</td>\n",
       "      <td>-4.373526</td>\n",
       "      <td>-8.590017</td>\n",
       "      <td>2.995379</td>\n",
       "      <td>84.038886</td>\n",
       "    </tr>\n",
       "  </tbody>\n",
       "</table>\n",
       "</div>"
      ],
      "text/plain": [
       "       id         f0         f1        f2     product\n",
       "0   kBEdx -15.001348  -8.276000 -0.005876    3.179103\n",
       "1   62mP7  14.272088  -3.475083  0.999183   26.953261\n",
       "2   vyE1P   6.263187  -5.948386  5.001160  134.766305\n",
       "3   KcrkZ -13.081196 -11.506057  4.999415  137.945408\n",
       "4   AHL4O  12.702195  -8.147433  5.004363  134.766305\n",
       "5   HHckp  -3.327590  -2.205276  3.003647   84.038886\n",
       "6   h5Ujo -11.142655 -10.133399  4.002382  110.992147\n",
       "7   muH9x   4.234715  -0.001354  2.004588   53.906522\n",
       "8   YiRkx  13.355129  -0.332068  4.998647  134.766305\n",
       "9   jG6Gi   1.069227 -11.025667  4.997844  137.945408\n",
       "10  7uHUe  11.777049  -5.334084  2.003033   53.906522\n",
       "11  OXyvW  16.320755  -0.562946 -0.001783    0.000000\n",
       "12  cB8re   7.736313  -6.093374  3.982531  107.813044\n",
       "13  igmai   6.695604  -0.749449 -0.007630    0.000000\n",
       "14  3OdkE -10.985487  -5.605994  2.991130   84.038886\n",
       "15  3tVUO  -0.347599  -6.275884 -0.003448    3.179103\n",
       "16  siveY  12.300570   2.944454  2.005541   53.906522\n",
       "17  gIqzq   8.900460  -5.632857  4.994324  134.766305\n",
       "18  zO5EU -13.412826  -4.729495  2.998590   84.038886\n",
       "19  dkcEb  -4.373526  -8.590017  2.995379   84.038886"
      ]
     },
     "execution_count": 3,
     "metadata": {},
     "output_type": "execute_result"
    }
   ],
   "source": [
    "geo_data_1 = pd.read_csv('/datasets/geo_data_1.csv') \n",
    "geo_data_1.head(20)"
   ]
  },
  {
   "cell_type": "code",
   "execution_count": 4,
   "metadata": {},
   "outputs": [
    {
     "data": {
      "text/html": [
       "<div>\n",
       "<style scoped>\n",
       "    .dataframe tbody tr th:only-of-type {\n",
       "        vertical-align: middle;\n",
       "    }\n",
       "\n",
       "    .dataframe tbody tr th {\n",
       "        vertical-align: top;\n",
       "    }\n",
       "\n",
       "    .dataframe thead th {\n",
       "        text-align: right;\n",
       "    }\n",
       "</style>\n",
       "<table border=\"1\" class=\"dataframe\">\n",
       "  <thead>\n",
       "    <tr style=\"text-align: right;\">\n",
       "      <th></th>\n",
       "      <th>id</th>\n",
       "      <th>f0</th>\n",
       "      <th>f1</th>\n",
       "      <th>f2</th>\n",
       "      <th>product</th>\n",
       "    </tr>\n",
       "  </thead>\n",
       "  <tbody>\n",
       "    <tr>\n",
       "      <th>0</th>\n",
       "      <td>fwXo0</td>\n",
       "      <td>-1.146987</td>\n",
       "      <td>0.963328</td>\n",
       "      <td>-0.828965</td>\n",
       "      <td>27.758673</td>\n",
       "    </tr>\n",
       "    <tr>\n",
       "      <th>1</th>\n",
       "      <td>WJtFt</td>\n",
       "      <td>0.262778</td>\n",
       "      <td>0.269839</td>\n",
       "      <td>-2.530187</td>\n",
       "      <td>56.069697</td>\n",
       "    </tr>\n",
       "    <tr>\n",
       "      <th>2</th>\n",
       "      <td>ovLUW</td>\n",
       "      <td>0.194587</td>\n",
       "      <td>0.289035</td>\n",
       "      <td>-5.586433</td>\n",
       "      <td>62.871910</td>\n",
       "    </tr>\n",
       "    <tr>\n",
       "      <th>3</th>\n",
       "      <td>q6cA6</td>\n",
       "      <td>2.236060</td>\n",
       "      <td>-0.553760</td>\n",
       "      <td>0.930038</td>\n",
       "      <td>114.572842</td>\n",
       "    </tr>\n",
       "    <tr>\n",
       "      <th>4</th>\n",
       "      <td>WPMUX</td>\n",
       "      <td>-0.515993</td>\n",
       "      <td>1.716266</td>\n",
       "      <td>5.899011</td>\n",
       "      <td>149.600746</td>\n",
       "    </tr>\n",
       "    <tr>\n",
       "      <th>5</th>\n",
       "      <td>LzZXx</td>\n",
       "      <td>-0.758092</td>\n",
       "      <td>0.710691</td>\n",
       "      <td>2.585887</td>\n",
       "      <td>90.222465</td>\n",
       "    </tr>\n",
       "    <tr>\n",
       "      <th>6</th>\n",
       "      <td>WBHRv</td>\n",
       "      <td>-0.574891</td>\n",
       "      <td>0.317727</td>\n",
       "      <td>1.773745</td>\n",
       "      <td>45.641478</td>\n",
       "    </tr>\n",
       "    <tr>\n",
       "      <th>7</th>\n",
       "      <td>XO8fn</td>\n",
       "      <td>-1.906649</td>\n",
       "      <td>-2.458350</td>\n",
       "      <td>-0.177097</td>\n",
       "      <td>72.480640</td>\n",
       "    </tr>\n",
       "    <tr>\n",
       "      <th>8</th>\n",
       "      <td>ybmQ5</td>\n",
       "      <td>1.776292</td>\n",
       "      <td>-0.279356</td>\n",
       "      <td>3.004156</td>\n",
       "      <td>106.616832</td>\n",
       "    </tr>\n",
       "    <tr>\n",
       "      <th>9</th>\n",
       "      <td>OilcN</td>\n",
       "      <td>-1.214452</td>\n",
       "      <td>-0.439314</td>\n",
       "      <td>5.922514</td>\n",
       "      <td>52.954532</td>\n",
       "    </tr>\n",
       "    <tr>\n",
       "      <th>10</th>\n",
       "      <td>myq2g</td>\n",
       "      <td>0.628659</td>\n",
       "      <td>-2.120049</td>\n",
       "      <td>5.362437</td>\n",
       "      <td>166.799132</td>\n",
       "    </tr>\n",
       "    <tr>\n",
       "      <th>11</th>\n",
       "      <td>V9R1y</td>\n",
       "      <td>-0.544565</td>\n",
       "      <td>0.039088</td>\n",
       "      <td>8.635293</td>\n",
       "      <td>150.859435</td>\n",
       "    </tr>\n",
       "    <tr>\n",
       "      <th>12</th>\n",
       "      <td>bKDo0</td>\n",
       "      <td>-0.960453</td>\n",
       "      <td>-0.127113</td>\n",
       "      <td>7.764734</td>\n",
       "      <td>96.910855</td>\n",
       "    </tr>\n",
       "    <tr>\n",
       "      <th>13</th>\n",
       "      <td>eXvhs</td>\n",
       "      <td>1.432891</td>\n",
       "      <td>-1.242074</td>\n",
       "      <td>3.557168</td>\n",
       "      <td>8.704162</td>\n",
       "    </tr>\n",
       "    <tr>\n",
       "      <th>14</th>\n",
       "      <td>wI4j3</td>\n",
       "      <td>-0.935464</td>\n",
       "      <td>2.420523</td>\n",
       "      <td>1.150536</td>\n",
       "      <td>116.829811</td>\n",
       "    </tr>\n",
       "    <tr>\n",
       "      <th>15</th>\n",
       "      <td>XOWTx</td>\n",
       "      <td>-2.628353</td>\n",
       "      <td>0.937303</td>\n",
       "      <td>0.057847</td>\n",
       "      <td>68.655498</td>\n",
       "    </tr>\n",
       "    <tr>\n",
       "      <th>16</th>\n",
       "      <td>2oVFv</td>\n",
       "      <td>-0.428050</td>\n",
       "      <td>-2.246556</td>\n",
       "      <td>6.970420</td>\n",
       "      <td>84.500464</td>\n",
       "    </tr>\n",
       "    <tr>\n",
       "      <th>17</th>\n",
       "      <td>0wbDA</td>\n",
       "      <td>0.735307</td>\n",
       "      <td>0.913124</td>\n",
       "      <td>7.899539</td>\n",
       "      <td>96.284701</td>\n",
       "    </tr>\n",
       "    <tr>\n",
       "      <th>18</th>\n",
       "      <td>NhHaR</td>\n",
       "      <td>0.706261</td>\n",
       "      <td>-0.993553</td>\n",
       "      <td>3.155582</td>\n",
       "      <td>48.052268</td>\n",
       "    </tr>\n",
       "    <tr>\n",
       "      <th>19</th>\n",
       "      <td>DMNMZ</td>\n",
       "      <td>-1.867846</td>\n",
       "      <td>2.744144</td>\n",
       "      <td>5.918278</td>\n",
       "      <td>153.815137</td>\n",
       "    </tr>\n",
       "  </tbody>\n",
       "</table>\n",
       "</div>"
      ],
      "text/plain": [
       "       id        f0        f1        f2     product\n",
       "0   fwXo0 -1.146987  0.963328 -0.828965   27.758673\n",
       "1   WJtFt  0.262778  0.269839 -2.530187   56.069697\n",
       "2   ovLUW  0.194587  0.289035 -5.586433   62.871910\n",
       "3   q6cA6  2.236060 -0.553760  0.930038  114.572842\n",
       "4   WPMUX -0.515993  1.716266  5.899011  149.600746\n",
       "5   LzZXx -0.758092  0.710691  2.585887   90.222465\n",
       "6   WBHRv -0.574891  0.317727  1.773745   45.641478\n",
       "7   XO8fn -1.906649 -2.458350 -0.177097   72.480640\n",
       "8   ybmQ5  1.776292 -0.279356  3.004156  106.616832\n",
       "9   OilcN -1.214452 -0.439314  5.922514   52.954532\n",
       "10  myq2g  0.628659 -2.120049  5.362437  166.799132\n",
       "11  V9R1y -0.544565  0.039088  8.635293  150.859435\n",
       "12  bKDo0 -0.960453 -0.127113  7.764734   96.910855\n",
       "13  eXvhs  1.432891 -1.242074  3.557168    8.704162\n",
       "14  wI4j3 -0.935464  2.420523  1.150536  116.829811\n",
       "15  XOWTx -2.628353  0.937303  0.057847   68.655498\n",
       "16  2oVFv -0.428050 -2.246556  6.970420   84.500464\n",
       "17  0wbDA  0.735307  0.913124  7.899539   96.284701\n",
       "18  NhHaR  0.706261 -0.993553  3.155582   48.052268\n",
       "19  DMNMZ -1.867846  2.744144  5.918278  153.815137"
      ]
     },
     "execution_count": 4,
     "metadata": {},
     "output_type": "execute_result"
    }
   ],
   "source": [
    "geo_data_2 = pd.read_csv('/datasets/geo_data_2.csv') \n",
    "geo_data_2.head(20)"
   ]
  },
  {
   "cell_type": "code",
   "execution_count": 5,
   "metadata": {},
   "outputs": [],
   "source": [
    "def research (data):\n",
    "    print((data.isna().mean()*100).round(1))\n",
    "    print(data.info())"
   ]
  },
  {
   "cell_type": "code",
   "execution_count": 6,
   "metadata": {},
   "outputs": [
    {
     "name": "stdout",
     "output_type": "stream",
     "text": [
      "id         0.0\n",
      "f0         0.0\n",
      "f1         0.0\n",
      "f2         0.0\n",
      "product    0.0\n",
      "dtype: float64\n",
      "<class 'pandas.core.frame.DataFrame'>\n",
      "RangeIndex: 100000 entries, 0 to 99999\n",
      "Data columns (total 5 columns):\n",
      " #   Column   Non-Null Count   Dtype  \n",
      "---  ------   --------------   -----  \n",
      " 0   id       100000 non-null  object \n",
      " 1   f0       100000 non-null  float64\n",
      " 2   f1       100000 non-null  float64\n",
      " 3   f2       100000 non-null  float64\n",
      " 4   product  100000 non-null  float64\n",
      "dtypes: float64(4), object(1)\n",
      "memory usage: 3.8+ MB\n",
      "None\n"
     ]
    }
   ],
   "source": [
    "research(geo_data_0)"
   ]
  },
  {
   "cell_type": "code",
   "execution_count": 7,
   "metadata": {},
   "outputs": [
    {
     "name": "stdout",
     "output_type": "stream",
     "text": [
      "id         0.0\n",
      "f0         0.0\n",
      "f1         0.0\n",
      "f2         0.0\n",
      "product    0.0\n",
      "dtype: float64\n",
      "<class 'pandas.core.frame.DataFrame'>\n",
      "RangeIndex: 100000 entries, 0 to 99999\n",
      "Data columns (total 5 columns):\n",
      " #   Column   Non-Null Count   Dtype  \n",
      "---  ------   --------------   -----  \n",
      " 0   id       100000 non-null  object \n",
      " 1   f0       100000 non-null  float64\n",
      " 2   f1       100000 non-null  float64\n",
      " 3   f2       100000 non-null  float64\n",
      " 4   product  100000 non-null  float64\n",
      "dtypes: float64(4), object(1)\n",
      "memory usage: 3.8+ MB\n",
      "None\n"
     ]
    }
   ],
   "source": [
    "research(geo_data_1)"
   ]
  },
  {
   "cell_type": "code",
   "execution_count": 8,
   "metadata": {},
   "outputs": [
    {
     "name": "stdout",
     "output_type": "stream",
     "text": [
      "id         0.0\n",
      "f0         0.0\n",
      "f1         0.0\n",
      "f2         0.0\n",
      "product    0.0\n",
      "dtype: float64\n",
      "<class 'pandas.core.frame.DataFrame'>\n",
      "RangeIndex: 100000 entries, 0 to 99999\n",
      "Data columns (total 5 columns):\n",
      " #   Column   Non-Null Count   Dtype  \n",
      "---  ------   --------------   -----  \n",
      " 0   id       100000 non-null  object \n",
      " 1   f0       100000 non-null  float64\n",
      " 2   f1       100000 non-null  float64\n",
      " 3   f2       100000 non-null  float64\n",
      " 4   product  100000 non-null  float64\n",
      "dtypes: float64(4), object(1)\n",
      "memory usage: 3.8+ MB\n",
      "None\n"
     ]
    }
   ],
   "source": [
    "research(geo_data_2)"
   ]
  },
  {
   "cell_type": "code",
   "execution_count": 9,
   "metadata": {},
   "outputs": [],
   "source": [
    "geo_data_0 = geo_data_0.drop(['id'],axis=1)\n",
    "geo_data_1 = geo_data_1.drop(['id'],axis=1)\n",
    "geo_data_2 = geo_data_2.drop(['id'],axis=1)"
   ]
  },
  {
   "cell_type": "markdown",
   "metadata": {},
   "source": [
    "В данных нет пропусков, но в них есть отдельный столбец со словами, который не поможет предсказать объем сырья, поэтому я это удалила "
   ]
  },
  {
   "cell_type": "markdown",
   "metadata": {},
   "source": [
    "## Обучение и проверка модели"
   ]
  },
  {
   "cell_type": "code",
   "execution_count": 13,
   "metadata": {},
   "outputs": [],
   "source": [
    "target = geo_data_0['product']\n",
    "features = geo_data_0.drop('product', axis=1)\n",
    "\n",
    "  \n",
    "features_train, features_valid, target_train, target_valid = train_test_split(features, target, test_size=0.25, random_state=12345)"
   ]
  },
  {
   "cell_type": "code",
   "execution_count": 14,
   "metadata": {},
   "outputs": [
    {
     "name": "stdout",
     "output_type": "stream",
     "text": [
      "RMSE - 37.5794217150813\n"
     ]
    }
   ],
   "source": [
    "model = LinearRegression()\n",
    "\n",
    "model.fit(features_train, target_train)\n",
    "predicted_target = model.predict(features_valid)\n",
    "\n",
    "print('RMSE -', mean_squared_error(target_valid, predicted_target)**0.5)"
   ]
  },
  {
   "cell_type": "code",
   "execution_count": 15,
   "metadata": {},
   "outputs": [],
   "source": [
    "from sklearn.preprocessing import StandardScaler \n",
    "scaler = StandardScaler()\n",
    "scaler.fit(features_train) \n",
    "features_train_s = scaler.transform(features_train)\n",
    "features_valid_s = scaler.transform(features_valid)"
   ]
  },
  {
   "cell_type": "code",
   "execution_count": 16,
   "metadata": {},
   "outputs": [
    {
     "name": "stdout",
     "output_type": "stream",
     "text": [
      "RMSE - 37.5794217150813\n"
     ]
    }
   ],
   "source": [
    "model = LinearRegression()\n",
    "\n",
    "model.fit(features_train_s, target_train)\n",
    "predicted_target = model.predict(features_valid_s)\n",
    "\n",
    "print('RMSE -', mean_squared_error(target_valid, predicted_target)**0.5)"
   ]
  },
  {
   "cell_type": "code",
   "execution_count": 17,
   "metadata": {},
   "outputs": [],
   "source": [
    "model = LinearRegression()\n",
    "\n",
    "def predict_res(df, target_name):\n",
    "    features = df.drop([target_name] , axis=1)\n",
    "    target = df[target_name]\n",
    "    \n",
    "    features_train, features_valid, target_train, target_valid = train_test_split(features, target, test_size=0.25, random_state=5062020)\n",
    "    \n",
    "    model.fit(features_train, target_train)\n",
    "    predicted_target = model.predict(features_valid)\n",
    "    data = {'real_product' : target_valid,\n",
    "            'predicted_product' : predicted_target         \n",
    "    }\n",
    "    data_frame = pd.DataFrame(data, columns = ['real_product', 'predicted_product'])\n",
    "    rmse = mean_squared_error(target_valid, predicted_target)**0.5\n",
    "    mean = data_frame['predicted_product'].mean()\n",
    "    oil_sum = data_frame['predicted_product'].sum()\n",
    "    real_oil_sum = data_frame['real_product'].sum()\n",
    "    return data_frame, rmse, mean, oil_sum,real_oil_sum"
   ]
  },
  {
   "cell_type": "code",
   "execution_count": 18,
   "metadata": {},
   "outputs": [
    {
     "name": "stdout",
     "output_type": "stream",
     "text": [
      "       real_product  predicted_product\n",
      "87351    145.407098         110.644337\n",
      "52805    131.589165          76.793446\n",
      "6583     101.596316         103.711077\n",
      "34986      8.123407          53.135348\n",
      "8253     169.834019         151.656408\n",
      "...             ...                ...\n",
      "42730     50.278867          54.293008\n",
      "55453     62.468737         130.532692\n",
      "77827     95.531731         116.615473\n",
      "91291     60.714129          91.889856\n",
      "18785     48.802221          55.951429\n",
      "\n",
      "[25000 rows x 2 columns]\n",
      "RMSE - 37.401957199217094\n",
      "Средний запас сырья - 92.52620585803338\n",
      "Предсказанный запас - 2313155.1464508343\n",
      "Реальный  запас - 2313395.805667925\n"
     ]
    }
   ],
   "source": [
    "geo_data_0_predicted, geo_data_0_rmse, geo_data_0_predicted_mean, geo_data_0_predicted_sum ,geo_data_0_real_sum  = predict_res(geo_data_0, 'product')\n",
    "print(geo_data_0_predicted)\n",
    "print('RMSE -', geo_data_0_rmse)\n",
    "print('Средний запас сырья -', geo_data_0_predicted_mean)\n",
    "print('Предсказанный запас -', geo_data_0_predicted_sum)\n",
    "print('Реальный  запас -', geo_data_0_real_sum)"
   ]
  },
  {
   "cell_type": "code",
   "execution_count": 19,
   "metadata": {},
   "outputs": [
    {
     "name": "stdout",
     "output_type": "stream",
     "text": [
      "       real_product  predicted_product\n",
      "87351     53.906522          54.336477\n",
      "52805      3.179103           3.756436\n",
      "6583      30.132364          31.266991\n",
      "34986     26.953261          26.692436\n",
      "8253      30.132364          31.128898\n",
      "...             ...                ...\n",
      "42730    110.992147         111.908400\n",
      "55453    107.813044         107.888525\n",
      "77827    134.766305         136.093349\n",
      "91291     80.859783          80.610352\n",
      "18785      3.179103           2.063831\n",
      "\n",
      "[25000 rows x 2 columns]\n",
      "RMSE - 0.8874258342572864\n",
      "Средний запас сырья - 68.27820207556354\n",
      "Предсказанный запас - 1706955.0518890887\n",
      "Реальный  запас - 1706710.3444370048\n"
     ]
    }
   ],
   "source": [
    "geo_data_1_predicted, geo_data_1_rmse, geo_data_1_predicted_mean, geo_data_1_predicted_sum,geo_data_1_real_sum   = predict_res(geo_data_1, 'product')\n",
    "print(geo_data_1_predicted)\n",
    "print('RMSE -', geo_data_1_rmse)\n",
    "print('Средний запас сырья -', geo_data_1_predicted_mean)\n",
    "print('Предсказанный запас -', geo_data_1_predicted_sum)\n",
    "print('Реальный  запас -', geo_data_1_real_sum)"
   ]
  },
  {
   "cell_type": "code",
   "execution_count": 20,
   "metadata": {},
   "outputs": [
    {
     "name": "stdout",
     "output_type": "stream",
     "text": [
      "       real_product  predicted_product\n",
      "87351    140.971569          62.929196\n",
      "52805    125.190694          98.323840\n",
      "6583      94.544056          79.920918\n",
      "34986    107.208380         104.706020\n",
      "8253     173.924418         114.066050\n",
      "...             ...                ...\n",
      "42730     62.243357         108.454872\n",
      "55453    123.570397         135.107342\n",
      "77827     66.067013          71.039985\n",
      "91291    129.747503          87.428398\n",
      "18785     97.617599          90.544140\n",
      "\n",
      "[25000 rows x 2 columns]\n",
      "RMSE - 40.18553497171235\n",
      "Средний запас сырья - 94.94294307153748\n",
      "Предсказанный запас - 2373573.576788437\n",
      "Реальный  запас - 2378821.7815969232\n"
     ]
    }
   ],
   "source": [
    "geo_data_2_predicted, geo_data_2_rmse, geo_data_2_predicted_mean, geo_data_2_predicted_sum,geo_data_2_real_sum    = predict_res(geo_data_2, 'product')\n",
    "print(geo_data_2_predicted)\n",
    "print('RMSE -', geo_data_2_rmse)\n",
    "print('Средний запас сырья -', geo_data_2_predicted_mean)\n",
    "print('Предсказанный запас -', geo_data_2_predicted_sum)\n",
    "print('Реальный  запас -', geo_data_2_real_sum)"
   ]
  },
  {
   "cell_type": "markdown",
   "metadata": {},
   "source": [
    "Хотя RMSE и разное, в третьем случае почти 41, но предсказанные запасы сырья достаточно близки к реальным, модель обучена хорошо, особенно во втором случае, где самая маленькая ошибка"
   ]
  },
  {
   "cell_type": "markdown",
   "metadata": {},
   "source": [
    "## Подготовка к расчёту прибыли"
   ]
  },
  {
   "cell_type": "code",
   "execution_count": 21,
   "metadata": {},
   "outputs": [],
   "source": [
    "budget = 10000000000\n",
    "cost =450000\n",
    "best = 200\n",
    "chosen = 500"
   ]
  },
  {
   "cell_type": "markdown",
   "metadata": {},
   "source": [
    " Взяла основные показатели, и расчитала средние объемы нефти и прибыль регоинов,"
   ]
  },
  {
   "cell_type": "code",
   "execution_count": 22,
   "metadata": {},
   "outputs": [
    {
     "name": "stdout",
     "output_type": "stream",
     "text": [
      "Средняя прибыль на лучшую точку  50000000.0\n",
      "Средний объем нефти на точку   111.11111111111111\n",
      "Средний объем нефти на регион  22222.222222222223\n"
     ]
    }
   ],
   "source": [
    "profit_best = budget/best\n",
    "print('Средняя прибыль на лучшую точку ' , profit_best)\n",
    "\n",
    "voluem= profit_best/cost\n",
    "print('Средний объем нефти на точку  ' ,voluem)\n",
    "\n",
    "region = budget/cost\n",
    "print('Средний объем нефти на регион ' , region)"
   ]
  },
  {
   "cell_type": "code",
   "execution_count": 23,
   "metadata": {},
   "outputs": [
    {
     "name": "stdout",
     "output_type": "stream",
     "text": [
      "Средний запас фактичекой нефти на скважину в регионе 1 92.50000000000001\n",
      "Средний запас фактичекой нефти на скважину в регионе 2 68.82500000000002\n",
      "Средний запас фактичекой нефти на скважину в регионе 3 95.00000000000004\n"
     ]
    }
   ],
   "source": [
    "print('Средний запас фактичекой нефти на скважину в регионе 1', geo_data_0['product'].mean())\n",
    "print('Средний запас фактичекой нефти на скважину в регионе 2', geo_data_1['product'].mean())\n",
    "print('Средний запас фактичекой нефти на скважину в регионе 3', geo_data_2['product'].mean())"
   ]
  },
  {
   "cell_type": "code",
   "execution_count": 24,
   "metadata": {},
   "outputs": [
    {
     "data": {
      "image/png": "[encoded data removed]",
      "text/plain": [
       "<Figure size 432x288 with 1 Axes>"
      ]
     },
     "metadata": {
      "needs_background": "light"
     },
     "output_type": "display_data"
    },
    {
     "data": {
      "image/png": "[encoded data removed]",
      "text/plain": [
       "<Figure size 432x288 with 1 Axes>"
      ]
     },
     "metadata": {
      "needs_background": "light"
     },
     "output_type": "display_data"
    },
    {
     "data": {
      "image/png": "[encoded data removed]",
      "text/plain": [
       "<Figure size 432x288 with 1 Axes>"
      ]
     },
     "metadata": {
      "needs_background": "light"
     },
     "output_type": "display_data"
    }
   ],
   "source": [
    "import matplotlib.pyplot as plt\n",
    "plt.hist(geo_data_0_predicted['predicted_product'])\n",
    "plt.xlabel(\"Объем нефти на скважину\")\n",
    "plt.ylabel(\"Количество\")\n",
    "plt.show()\n",
    "plt.hist(geo_data_1_predicted['predicted_product'])\n",
    "plt.xlabel(\"Объем нефти на скважину\")\n",
    "plt.ylabel(\"Количество\")\n",
    "plt.show()\n",
    "plt.hist(geo_data_2_predicted['predicted_product'])\n",
    "plt.xlabel(\"Объем нефти на скважину\")\n",
    "plt.ylabel(\"Количество\")\n",
    "plt.show()"
   ]
  },
  {
   "cell_type": "markdown",
   "metadata": {},
   "source": [
    "В первом и третьем регионе нормальное распределение запасов нефти, во втором объем распределен равновомерно, скорее всего в этом регионе будет меньший риск"
   ]
  },
  {
   "cell_type": "code",
   "execution_count": 31,
   "metadata": {},
   "outputs": [],
   "source": [
    "def profit_n(target, proba,count):\n",
    "    prob_sorted = proba.sort_values(ascending = False)\n",
    "    selected = target[prob_sorted.index][:count]\n",
    "    return cost*selected.sum() - budget"
   ]
  },
  {
   "cell_type": "markdown",
   "metadata": {},
   "source": [
    "Функция для расчёта прибыли по выбранным лучшим скважинам и предсказаниям модели, применю ее дальше\n"
   ]
  },
  {
   "cell_type": "markdown",
   "metadata": {},
   "source": [
    "## Расчёт прибыли и рисков "
   ]
  },
  {
   "cell_type": "code",
   "execution_count": 32,
   "metadata": {},
   "outputs": [],
   "source": [
    "state = np.random.RandomState(5062020)\n",
    "def bootstrap(target, probs):\n",
    "    values=[]\n",
    "    lost = 0\n",
    "    for i in range(1000):\n",
    "        target_sample = target.sample(replace=True, random_state=state, n=chosen)\n",
    "        probs_sample = probs[target_sample.index]\n",
    "        profit = profit_n(target, probs_sample, best)\n",
    "        if profit < 0:\n",
    "            lost +=1\n",
    "        values.append(profit)\n",
    "    \n",
    "    values = pd.Series(values)\n",
    "    lower = values.quantile(0.025)\n",
    "    upper = values.quantile(0.975)\n",
    "    average = values.mean()\n",
    "    risk = (lost / 1000)*100\n",
    "    return average, lower, upper, risk"
   ]
  },
  {
   "cell_type": "code",
   "execution_count": 44,
   "metadata": {},
   "outputs": [
    {
     "name": "stdout",
     "output_type": "stream",
     "text": [
      "Средняя прибыль по региону 437146662.24575466\n",
      "95% доверительный интервал от -75443719.820676 до 926151684.249967 \n",
      "Процент риска 4.1000000000000005 %\n"
     ]
    }
   ],
   "source": [
    "average_0, lower_0, upper_0, risk_0 = bootstrap(geo_data_0_predicted['real_product'], geo_data_0_predicted['predicted_product'])\n",
    "print('Средняя прибыль по региону', average_0)\n",
    "print('95% доверительный интервал от {:f} до {:f} '.format(lower_0, upper_0))\n",
    "print('Процент риска', risk_0, '%')"
   ]
  },
  {
   "cell_type": "code",
   "execution_count": 47,
   "metadata": {},
   "outputs": [
    {
     "name": "stdout",
     "output_type": "stream",
     "text": [
      "Средняя прибыль по региону 409890465.99591833\n",
      "95% доверительный интервал от 32305943.461788 до 771695575.058130\n",
      "Процент риска 1.7999999999999998 %\n"
     ]
    }
   ],
   "source": [
    "average_1, lower_1, upper_1, risk_1 = bootstrap(geo_data_1_predicted['real_product'],geo_data_1_predicted['predicted_product'])\n",
    "\n",
    "print('Средняя прибыль по региону', average_1)\n",
    "print('95% доверительный интервал от {:f} до {:f}'.format(lower_1, upper_1))\n",
    "print('Процент риска', risk_1, '%')"
   ]
  },
  {
   "cell_type": "code",
   "execution_count": 46,
   "metadata": {},
   "outputs": [
    {
     "name": "stdout",
     "output_type": "stream",
     "text": [
      "Средняя прибыль по региону 383156240.94594365\n",
      "95% доверительный интервал от -157387640.803015 до 892457523.980084\n",
      "Процент риска 7.8 %\n"
     ]
    }
   ],
   "source": [
    "average_2, lower_2, upper_2, risk_2 = bootstrap(geo_data_2_predicted['real_product'],geo_data_2_predicted['predicted_product'])\n",
    "print('Средняя прибыль по региону', average_2)\n",
    "print('95% доверительный интервал от {:f} до {:f}'.format(lower_2, upper_2))\n",
    "print('Процент риска', risk_2, '%')"
   ]
  },
  {
   "cell_type": "markdown",
   "metadata": {},
   "source": [
    "<br> Во втором случае наименьший риск и доверительный интервал в только в положительной области, так что этот регион наиболее рентабельный, поэтому это самый подходщий для инвестиций регион."
   ]
  }
 ],
 "metadata": {
  "ExecuteTimeLog": [
   {
    "duration": 828,
    "start_time": "2022-05-17T19:32:40.117Z"
   },
   {
    "duration": 181,
    "start_time": "2022-05-17T19:32:40.947Z"
   },
   {
    "duration": 113,
    "start_time": "2022-05-17T19:32:41.130Z"
   },
   {
    "duration": 118,
    "start_time": "2022-05-17T19:32:41.245Z"
   },
   {
    "duration": 3,
    "start_time": "2022-05-17T19:32:41.568Z"
   },
   {
    "duration": 21,
    "start_time": "2022-05-17T19:32:41.819Z"
   },
   {
    "duration": 21,
    "start_time": "2022-05-17T19:32:42.487Z"
   },
   {
    "duration": 19,
    "start_time": "2022-05-17T19:32:42.764Z"
   },
   {
    "duration": 12,
    "start_time": "2022-05-17T19:32:42.981Z"
   },
   {
    "duration": 14,
    "start_time": "2022-05-17T19:32:44.160Z"
   },
   {
    "duration": 18,
    "start_time": "2022-05-17T19:32:44.927Z"
   },
   {
    "duration": 11,
    "start_time": "2022-05-17T19:32:45.236Z"
   },
   {
    "duration": 12,
    "start_time": "2022-05-17T19:32:45.486Z"
   },
   {
    "duration": 5,
    "start_time": "2022-05-17T19:32:45.723Z"
   },
   {
    "duration": 41,
    "start_time": "2022-05-17T19:32:46.016Z"
   },
   {
    "duration": 64,
    "start_time": "2022-05-17T19:32:46.233Z"
   },
   {
    "duration": 38,
    "start_time": "2022-05-17T19:32:46.474Z"
   },
   {
    "duration": 3,
    "start_time": "2022-05-17T19:32:46.905Z"
   },
   {
    "duration": 5,
    "start_time": "2022-05-17T19:32:47.150Z"
   },
   {
    "duration": 5,
    "start_time": "2022-05-17T19:32:47.387Z"
   },
   {
    "duration": 631,
    "start_time": "2022-05-17T19:32:47.569Z"
   },
   {
    "duration": 3,
    "start_time": "2022-05-17T19:32:48.203Z"
   },
   {
    "duration": 5,
    "start_time": "2022-05-17T19:32:49.424Z"
   },
   {
    "duration": 106,
    "start_time": "2022-05-17T19:33:15.315Z"
   },
   {
    "duration": 94,
    "start_time": "2022-05-17T19:34:14.605Z"
   },
   {
    "duration": 76,
    "start_time": "2022-05-17T19:34:15.724Z"
   },
   {
    "duration": 77,
    "start_time": "2022-05-17T19:34:16.616Z"
   },
   {
    "duration": 4,
    "start_time": "2022-05-17T19:34:17.030Z"
   },
   {
    "duration": 5,
    "start_time": "2022-05-17T19:34:17.742Z"
   },
   {
    "duration": 6,
    "start_time": "2022-05-17T19:34:17.938Z"
   },
   {
    "duration": 394,
    "start_time": "2022-05-17T19:34:18.156Z"
   },
   {
    "duration": 3,
    "start_time": "2022-05-17T19:34:18.552Z"
   },
   {
    "duration": 5,
    "start_time": "2022-05-17T19:34:19.551Z"
   },
   {
    "duration": 14,
    "start_time": "2022-05-17T19:34:20.024Z"
   },
   {
    "duration": 9,
    "start_time": "2022-05-17T19:34:32.995Z"
   },
   {
    "duration": 5,
    "start_time": "2022-05-17T19:35:26.551Z"
   },
   {
    "duration": 10,
    "start_time": "2022-05-17T19:35:28.270Z"
   },
   {
    "duration": 14,
    "start_time": "2022-05-17T19:35:29.317Z"
   },
   {
    "duration": 5,
    "start_time": "2022-05-17T19:36:06.886Z"
   },
   {
    "duration": 8,
    "start_time": "2022-05-17T19:36:08.355Z"
   },
   {
    "duration": 21,
    "start_time": "2022-05-17T19:36:08.766Z"
   },
   {
    "duration": 6,
    "start_time": "2022-05-17T19:36:20.390Z"
   },
   {
    "duration": 8,
    "start_time": "2022-05-17T19:36:21.021Z"
   },
   {
    "duration": 33896,
    "start_time": "2022-05-17T19:36:21.477Z"
   },
   {
    "duration": 3,
    "start_time": "2022-05-17T19:37:17.941Z"
   },
   {
    "duration": 147,
    "start_time": "2022-05-17T19:37:18.273Z"
   },
   {
    "duration": 127,
    "start_time": "2022-05-17T19:37:18.706Z"
   },
   {
    "duration": 132,
    "start_time": "2022-05-17T19:37:19.288Z"
   },
   {
    "duration": 3,
    "start_time": "2022-05-17T19:37:19.698Z"
   },
   {
    "duration": 24,
    "start_time": "2022-05-17T19:37:19.966Z"
   },
   {
    "duration": 23,
    "start_time": "2022-05-17T19:37:20.175Z"
   },
   {
    "duration": 23,
    "start_time": "2022-05-17T19:37:20.375Z"
   },
   {
    "duration": 13,
    "start_time": "2022-05-17T19:37:20.586Z"
   },
   {
    "duration": 13,
    "start_time": "2022-05-17T19:37:21.451Z"
   },
   {
    "duration": 21,
    "start_time": "2022-05-17T19:37:21.649Z"
   },
   {
    "duration": 18,
    "start_time": "2022-05-17T19:37:21.837Z"
   },
   {
    "duration": 20,
    "start_time": "2022-05-17T19:37:22.027Z"
   },
   {
    "duration": 7,
    "start_time": "2022-05-17T19:37:22.220Z"
   },
   {
    "duration": 90,
    "start_time": "2022-05-17T19:37:22.413Z"
   },
   {
    "duration": 201,
    "start_time": "2022-05-17T19:37:22.595Z"
   },
   {
    "duration": 99,
    "start_time": "2022-05-17T19:37:22.798Z"
   },
   {
    "duration": 7,
    "start_time": "2022-05-17T19:37:23.186Z"
   },
   {
    "duration": 6,
    "start_time": "2022-05-17T19:37:23.387Z"
   },
   {
    "duration": 9,
    "start_time": "2022-05-17T19:37:23.824Z"
   },
   {
    "duration": 538,
    "start_time": "2022-05-17T19:37:24.110Z"
   },
   {
    "duration": 3,
    "start_time": "2022-05-17T19:37:24.651Z"
   },
   {
    "duration": 5,
    "start_time": "2022-05-17T19:37:25.632Z"
   },
   {
    "duration": 8,
    "start_time": "2022-05-17T19:37:25.872Z"
   },
   {
    "duration": 33607,
    "start_time": "2022-05-17T19:37:26.313Z"
   },
   {
    "duration": 5,
    "start_time": "2022-05-17T19:38:45.411Z"
   },
   {
    "duration": 10,
    "start_time": "2022-05-17T19:38:48.431Z"
   },
   {
    "duration": 14,
    "start_time": "2022-05-17T19:38:49.405Z"
   },
   {
    "duration": 5,
    "start_time": "2022-05-17T19:40:05.432Z"
   },
   {
    "duration": 9,
    "start_time": "2022-05-17T19:40:05.994Z"
   },
   {
    "duration": 14,
    "start_time": "2022-05-17T19:40:06.738Z"
   },
   {
    "duration": 5,
    "start_time": "2022-05-17T19:40:29.774Z"
   },
   {
    "duration": 9,
    "start_time": "2022-05-17T19:40:30.273Z"
   },
   {
    "duration": 821,
    "start_time": "2022-05-17T19:40:30.702Z"
   },
   {
    "duration": 815,
    "start_time": "2022-05-17T19:41:23.450Z"
   },
   {
    "duration": 837,
    "start_time": "2022-05-17T19:41:46.268Z"
   },
   {
    "duration": 816,
    "start_time": "2022-05-17T19:42:42.645Z"
   },
   {
    "duration": 6,
    "start_time": "2022-05-17T19:42:54.494Z"
   },
   {
    "duration": 840,
    "start_time": "2022-05-17T19:42:58.715Z"
   },
   {
    "duration": 5,
    "start_time": "2022-05-17T19:44:10.540Z"
   },
   {
    "duration": 771,
    "start_time": "2022-05-17T19:44:11.126Z"
   },
   {
    "duration": 771,
    "start_time": "2022-05-17T19:44:13.886Z"
   },
   {
    "duration": 798,
    "start_time": "2022-05-17T19:44:15.234Z"
   },
   {
    "duration": 2,
    "start_time": "2022-05-17T19:45:32.262Z"
   },
   {
    "duration": 4,
    "start_time": "2022-05-17T19:45:33.368Z"
   },
   {
    "duration": 5,
    "start_time": "2022-05-17T19:45:34.513Z"
   },
   {
    "duration": 368,
    "start_time": "2022-05-17T19:45:35.085Z"
   },
   {
    "duration": 3,
    "start_time": "2022-05-17T19:45:35.604Z"
   },
   {
    "duration": 5,
    "start_time": "2022-05-17T19:45:37.452Z"
   },
   {
    "duration": 5,
    "start_time": "2022-05-17T19:45:38.004Z"
   },
   {
    "duration": 831,
    "start_time": "2022-05-17T19:45:38.898Z"
   },
   {
    "duration": 4,
    "start_time": "2022-05-17T19:45:57.445Z"
   },
   {
    "duration": 787,
    "start_time": "2022-05-17T19:45:59.483Z"
   },
   {
    "duration": 787,
    "start_time": "2022-05-17T19:47:39.233Z"
   },
   {
    "duration": 0,
    "start_time": "2022-05-17T19:47:40.021Z"
   },
   {
    "duration": 801,
    "start_time": "2022-05-17T19:47:41.625Z"
   },
   {
    "duration": 5,
    "start_time": "2022-05-17T19:47:45.482Z"
   },
   {
    "duration": 783,
    "start_time": "2022-05-17T19:47:46.077Z"
   },
   {
    "duration": 802,
    "start_time": "2022-05-17T19:47:47.639Z"
   },
   {
    "duration": 785,
    "start_time": "2022-05-17T19:47:50.439Z"
   },
   {
    "duration": 5,
    "start_time": "2022-05-17T19:48:18.531Z"
   },
   {
    "duration": 811,
    "start_time": "2022-05-17T19:48:18.957Z"
   },
   {
    "duration": 796,
    "start_time": "2022-05-17T19:48:20.695Z"
   },
   {
    "duration": 828,
    "start_time": "2022-05-17T19:48:22.308Z"
   },
   {
    "duration": 797,
    "start_time": "2022-05-17T19:48:26.504Z"
   },
   {
    "duration": 5,
    "start_time": "2022-05-17T19:48:40.542Z"
   },
   {
    "duration": 794,
    "start_time": "2022-05-17T19:48:41.069Z"
   },
   {
    "duration": 826,
    "start_time": "2022-05-17T19:48:41.865Z"
   },
   {
    "duration": 824,
    "start_time": "2022-05-17T19:48:42.692Z"
   },
   {
    "duration": 5,
    "start_time": "2022-05-17T19:49:25.011Z"
   },
   {
    "duration": 939,
    "start_time": "2022-05-17T19:49:25.478Z"
   },
   {
    "duration": 901,
    "start_time": "2022-05-17T19:49:26.419Z"
   },
   {
    "duration": 872,
    "start_time": "2022-05-17T19:49:27.322Z"
   },
   {
    "duration": 836,
    "start_time": "2022-05-18T18:32:41.517Z"
   },
   {
    "duration": 390,
    "start_time": "2022-05-18T18:32:43.242Z"
   },
   {
    "duration": 167,
    "start_time": "2022-05-18T18:32:44.098Z"
   },
   {
    "duration": 175,
    "start_time": "2022-05-18T18:32:44.665Z"
   },
   {
    "duration": 3,
    "start_time": "2022-05-18T18:32:45.023Z"
   },
   {
    "duration": 20,
    "start_time": "2022-05-18T18:32:45.306Z"
   },
   {
    "duration": 21,
    "start_time": "2022-05-18T18:32:45.577Z"
   },
   {
    "duration": 19,
    "start_time": "2022-05-18T18:32:45.806Z"
   },
   {
    "duration": 11,
    "start_time": "2022-05-18T18:32:46.017Z"
   },
   {
    "duration": 13,
    "start_time": "2022-05-18T18:32:47.176Z"
   },
   {
    "duration": 56,
    "start_time": "2022-05-18T18:32:47.957Z"
   },
   {
    "duration": 14,
    "start_time": "2022-05-18T18:33:12.972Z"
   },
   {
    "duration": 63,
    "start_time": "2022-05-18T18:33:13.843Z"
   },
   {
    "duration": 12,
    "start_time": "2022-05-18T18:33:15.345Z"
   },
   {
    "duration": 23,
    "start_time": "2022-05-18T18:33:16.139Z"
   },
   {
    "duration": 4,
    "start_time": "2022-05-18T18:35:39.106Z"
   },
   {
    "duration": 69,
    "start_time": "2022-05-18T18:35:40.026Z"
   },
   {
    "duration": 71,
    "start_time": "2022-05-18T18:35:41.325Z"
   },
   {
    "duration": 62,
    "start_time": "2022-05-18T18:35:42.333Z"
   },
   {
    "duration": 2,
    "start_time": "2022-05-18T18:39:35.993Z"
   },
   {
    "duration": 41,
    "start_time": "2022-05-18T18:40:13.571Z"
   },
   {
    "duration": 6,
    "start_time": "2022-05-18T18:40:24.675Z"
   },
   {
    "duration": 8,
    "start_time": "2022-05-18T18:40:25.557Z"
   },
   {
    "duration": 1349,
    "start_time": "2022-05-18T18:40:26.518Z"
   },
   {
    "duration": 3,
    "start_time": "2022-05-18T18:42:16.393Z"
   },
   {
    "duration": 4,
    "start_time": "2022-05-18T18:43:57.961Z"
   },
   {
    "duration": 847,
    "start_time": "2022-05-18T18:44:00.698Z"
   },
   {
    "duration": 888,
    "start_time": "2022-05-18T18:44:02.068Z"
   },
   {
    "duration": 815,
    "start_time": "2022-05-18T18:44:02.957Z"
   },
   {
    "duration": 5,
    "start_time": "2022-05-18T18:45:32.248Z"
   },
   {
    "duration": 810,
    "start_time": "2022-05-18T18:45:32.778Z"
   },
   {
    "duration": 830,
    "start_time": "2022-05-18T18:45:34.800Z"
   },
   {
    "duration": 791,
    "start_time": "2022-05-18T18:45:35.703Z"
   },
   {
    "duration": 6,
    "start_time": "2022-05-18T18:48:19.112Z"
   },
   {
    "duration": 819,
    "start_time": "2022-05-18T18:48:19.506Z"
   },
   {
    "duration": 812,
    "start_time": "2022-05-18T18:48:21.426Z"
   },
   {
    "duration": 769,
    "start_time": "2022-05-18T18:48:56.759Z"
   },
   {
    "duration": 803,
    "start_time": "2022-05-18T18:49:10.717Z"
   },
   {
    "duration": 5,
    "start_time": "2022-05-18T18:49:43.837Z"
   },
   {
    "duration": 796,
    "start_time": "2022-05-18T18:49:45.806Z"
   },
   {
    "duration": 814,
    "start_time": "2022-05-18T18:50:29.730Z"
   },
   {
    "duration": 6,
    "start_time": "2022-05-18T18:51:15.900Z"
   },
   {
    "duration": 787,
    "start_time": "2022-05-18T18:51:16.260Z"
   },
   {
    "duration": 769,
    "start_time": "2022-05-18T18:51:17.462Z"
   },
   {
    "duration": 796,
    "start_time": "2022-05-18T18:51:18.937Z"
   },
   {
    "duration": 817,
    "start_time": "2022-05-18T18:51:41.769Z"
   },
   {
    "duration": 5,
    "start_time": "2022-05-18T19:02:53.712Z"
   },
   {
    "duration": 172,
    "start_time": "2022-05-18T19:02:54.183Z"
   },
   {
    "duration": 151,
    "start_time": "2022-05-18T19:02:54.701Z"
   },
   {
    "duration": 152,
    "start_time": "2022-05-18T19:02:55.236Z"
   },
   {
    "duration": 6,
    "start_time": "2022-05-18T19:02:56.131Z"
   },
   {
    "duration": 44,
    "start_time": "2022-05-18T19:02:56.900Z"
   },
   {
    "duration": 29,
    "start_time": "2022-05-18T19:02:57.442Z"
   },
   {
    "duration": 36,
    "start_time": "2022-05-18T19:02:57.873Z"
   },
   {
    "duration": 15,
    "start_time": "2022-05-18T19:02:58.434Z"
   },
   {
    "duration": 21,
    "start_time": "2022-05-18T19:03:00.232Z"
   },
   {
    "duration": 37,
    "start_time": "2022-05-18T19:03:01.507Z"
   },
   {
    "duration": 15,
    "start_time": "2022-05-18T19:03:01.853Z"
   },
   {
    "duration": 13,
    "start_time": "2022-05-18T19:03:02.558Z"
   },
   {
    "duration": 12,
    "start_time": "2022-05-18T19:03:04.133Z"
   },
   {
    "duration": 225,
    "start_time": "2022-05-18T19:03:04.889Z"
   },
   {
    "duration": 85,
    "start_time": "2022-05-18T19:03:05.811Z"
   },
   {
    "duration": 36,
    "start_time": "2022-05-18T19:03:06.355Z"
   },
   {
    "duration": 18,
    "start_time": "2022-05-18T19:03:08.037Z"
   },
   {
    "duration": 11,
    "start_time": "2022-05-18T19:03:08.939Z"
   },
   {
    "duration": 17,
    "start_time": "2022-05-18T19:03:09.411Z"
   },
   {
    "duration": 738,
    "start_time": "2022-05-18T19:03:10.419Z"
   },
   {
    "duration": 14,
    "start_time": "2022-05-18T19:03:11.917Z"
   },
   {
    "duration": 8,
    "start_time": "2022-05-18T19:03:13.850Z"
   },
   {
    "duration": 1208,
    "start_time": "2022-05-18T19:03:14.872Z"
   },
   {
    "duration": 1040,
    "start_time": "2022-05-18T19:03:16.340Z"
   },
   {
    "duration": 1295,
    "start_time": "2022-05-18T19:03:17.382Z"
   },
   {
    "duration": 7,
    "start_time": "2022-05-18T19:04:22.767Z"
   },
   {
    "duration": 1048,
    "start_time": "2022-05-18T19:04:23.481Z"
   },
   {
    "duration": 7,
    "start_time": "2022-05-18T19:04:32.461Z"
   },
   {
    "duration": 984,
    "start_time": "2022-05-18T19:04:32.851Z"
   },
   {
    "duration": 954,
    "start_time": "2022-05-18T19:04:34.615Z"
   },
   {
    "duration": 922,
    "start_time": "2022-05-18T19:04:35.721Z"
   },
   {
    "duration": 889,
    "start_time": "2022-05-18T19:11:04.682Z"
   },
   {
    "duration": 871,
    "start_time": "2022-05-18T19:11:14.228Z"
   },
   {
    "duration": 955,
    "start_time": "2022-05-18T19:11:43.661Z"
   },
   {
    "duration": 930,
    "start_time": "2022-05-18T19:11:56.029Z"
   },
   {
    "duration": 888,
    "start_time": "2022-05-18T19:11:57.164Z"
   },
   {
    "duration": 1005,
    "start_time": "2022-05-18T19:11:58.937Z"
   },
   {
    "duration": 854,
    "start_time": "2022-05-18T19:12:14.926Z"
   },
   {
    "duration": 885,
    "start_time": "2022-05-18T19:12:15.782Z"
   },
   {
    "duration": 876,
    "start_time": "2022-05-18T19:13:30.862Z"
   },
   {
    "duration": 976,
    "start_time": "2022-05-18T19:13:32.361Z"
   },
   {
    "duration": 904,
    "start_time": "2022-05-18T19:13:34.229Z"
   },
   {
    "duration": 1032,
    "start_time": "2022-11-22T18:14:35.356Z"
   },
   {
    "duration": 415,
    "start_time": "2022-11-22T18:14:36.390Z"
   },
   {
    "duration": 196,
    "start_time": "2022-11-22T18:14:36.807Z"
   },
   {
    "duration": 197,
    "start_time": "2022-11-22T18:14:37.005Z"
   },
   {
    "duration": 3,
    "start_time": "2022-11-22T18:14:37.203Z"
   },
   {
    "duration": 47,
    "start_time": "2022-11-22T18:14:37.208Z"
   },
   {
    "duration": 19,
    "start_time": "2022-11-22T18:14:37.257Z"
   },
   {
    "duration": 42,
    "start_time": "2022-11-22T18:14:37.278Z"
   },
   {
    "duration": 11,
    "start_time": "2022-11-22T18:14:37.322Z"
   },
   {
    "duration": 130,
    "start_time": "2022-11-22T18:14:37.336Z"
   },
   {
    "duration": 0,
    "start_time": "2022-11-22T18:14:37.468Z"
   },
   {
    "duration": 0,
    "start_time": "2022-11-22T18:14:37.469Z"
   },
   {
    "duration": 0,
    "start_time": "2022-11-22T18:14:37.471Z"
   },
   {
    "duration": 0,
    "start_time": "2022-11-22T18:14:37.472Z"
   },
   {
    "duration": 0,
    "start_time": "2022-11-22T18:14:37.473Z"
   },
   {
    "duration": 0,
    "start_time": "2022-11-22T18:14:37.474Z"
   },
   {
    "duration": 0,
    "start_time": "2022-11-22T18:14:37.475Z"
   },
   {
    "duration": 0,
    "start_time": "2022-11-22T18:14:37.476Z"
   },
   {
    "duration": 0,
    "start_time": "2022-11-22T18:14:37.477Z"
   },
   {
    "duration": 0,
    "start_time": "2022-11-22T18:14:37.478Z"
   },
   {
    "duration": 0,
    "start_time": "2022-11-22T18:14:37.479Z"
   },
   {
    "duration": 0,
    "start_time": "2022-11-22T18:14:37.480Z"
   },
   {
    "duration": 0,
    "start_time": "2022-11-22T18:14:37.481Z"
   },
   {
    "duration": 0,
    "start_time": "2022-11-22T18:14:37.483Z"
   },
   {
    "duration": 0,
    "start_time": "2022-11-22T18:14:37.484Z"
   },
   {
    "duration": 0,
    "start_time": "2022-11-22T18:14:37.485Z"
   },
   {
    "duration": 16,
    "start_time": "2022-11-22T18:58:12.012Z"
   },
   {
    "duration": 3,
    "start_time": "2022-11-22T18:58:59.408Z"
   },
   {
    "duration": 14,
    "start_time": "2022-11-22T18:59:04.606Z"
   },
   {
    "duration": 22,
    "start_time": "2022-11-22T18:59:06.904Z"
   },
   {
    "duration": 15,
    "start_time": "2022-11-22T18:59:07.494Z"
   },
   {
    "duration": 12,
    "start_time": "2022-11-22T18:59:08.026Z"
   },
   {
    "duration": 5,
    "start_time": "2022-11-22T18:59:08.414Z"
   },
   {
    "duration": 80,
    "start_time": "2022-11-22T18:59:08.637Z"
   },
   {
    "duration": 103,
    "start_time": "2022-11-22T18:59:09.312Z"
   },
   {
    "duration": 94,
    "start_time": "2022-11-22T18:59:09.523Z"
   },
   {
    "duration": 3,
    "start_time": "2022-11-22T18:59:10.368Z"
   },
   {
    "duration": 5,
    "start_time": "2022-11-22T18:59:11.082Z"
   },
   {
    "duration": 5,
    "start_time": "2022-11-22T18:59:11.346Z"
   },
   {
    "duration": 668,
    "start_time": "2022-11-22T18:59:11.674Z"
   },
   {
    "duration": 4,
    "start_time": "2022-11-22T18:59:12.344Z"
   },
   {
    "duration": 5,
    "start_time": "2022-11-22T18:59:12.812Z"
   },
   {
    "duration": 21,
    "start_time": "2022-11-22T18:59:13.144Z"
   },
   {
    "duration": 14,
    "start_time": "2022-11-22T18:59:13.359Z"
   },
   {
    "duration": 15,
    "start_time": "2022-11-22T18:59:13.554Z"
   },
   {
    "duration": 3,
    "start_time": "2022-11-22T18:59:29.828Z"
   },
   {
    "duration": 3,
    "start_time": "2022-11-22T18:59:50.004Z"
   },
   {
    "duration": 5,
    "start_time": "2022-11-22T18:59:51.244Z"
   },
   {
    "duration": 894,
    "start_time": "2022-11-22T18:59:52.558Z"
   },
   {
    "duration": 876,
    "start_time": "2022-11-22T18:59:55.224Z"
   },
   {
    "duration": 948,
    "start_time": "2022-11-22T18:59:56.103Z"
   },
   {
    "duration": 890,
    "start_time": "2022-11-22T19:00:17.074Z"
   },
   {
    "duration": 886,
    "start_time": "2022-11-22T19:00:42.405Z"
   },
   {
    "duration": 867,
    "start_time": "2022-11-22T19:01:00.797Z"
   },
   {
    "duration": 879,
    "start_time": "2022-11-22T19:01:11.691Z"
   },
   {
    "duration": 852,
    "start_time": "2022-11-22T19:01:24.244Z"
   },
   {
    "duration": 835,
    "start_time": "2022-11-22T19:01:37.234Z"
   },
   {
    "duration": 926,
    "start_time": "2022-11-22T19:01:45.810Z"
   },
   {
    "duration": 843,
    "start_time": "2022-11-22T19:01:53.721Z"
   },
   {
    "duration": 885,
    "start_time": "2022-11-22T19:02:21.628Z"
   },
   {
    "duration": 835,
    "start_time": "2022-11-22T19:02:24.604Z"
   },
   {
    "duration": 900,
    "start_time": "2022-11-22T19:02:26.343Z"
   },
   {
    "duration": 914,
    "start_time": "2022-11-22T19:02:41.257Z"
   }
  ],
  "kernelspec": {
   "display_name": "Python 3 (ipykernel)",
   "language": "python",
   "name": "python3"
  },
  "language_info": {
   "codemirror_mode": {
    "name": "ipython",
    "version": 3
   },
   "file_extension": ".py",
   "mimetype": "text/x-python",
   "name": "python",
   "nbconvert_exporter": "python",
   "pygments_lexer": "ipython3",
   "version": "3.9.5"
  },
  "toc": {
   "base_numbering": 1,
   "nav_menu": {},
   "number_sections": true,
   "sideBar": true,
   "skip_h1_title": true,
   "title_cell": "Table of Contents",
   "title_sidebar": "Contents",
   "toc_cell": false,
   "toc_position": {},
   "toc_section_display": true,
   "toc_window_display": false
  }
 },
 "nbformat": 4,
 "nbformat_minor": 2
}
